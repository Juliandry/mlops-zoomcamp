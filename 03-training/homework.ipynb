{
 "cells": [
  {
   "cell_type": "code",
   "execution_count": 2,
   "id": "114d92bb",
   "metadata": {},
   "outputs": [],
   "source": [
    "import pandas as pd\n",
    "import seaborn as sns\n",
    "import matplotlib.pyplot as plt\n",
    "import pickle\n",
    "\n",
    "from sklearn.feature_extraction import DictVectorizer \n",
    "from sklearn.linear_model import LinearRegression\n",
    "from sklearn.linear_model import Lasso\n",
    "\n",
    "from sklearn.metrics import mean_squared_error\n",
    "pd.set_option('display.float_format', lambda x: '%.3f' % x)"
   ]
  },
  {
   "cell_type": "code",
   "execution_count": 15,
   "id": "474e45ab",
   "metadata": {},
   "outputs": [
    {
     "data": {
      "text/plain": [
       "'/home/juliandry/mlops-zoomcamp/03-training'"
      ]
     },
     "execution_count": 15,
     "metadata": {},
     "output_type": "execute_result"
    }
   ],
   "source": [
    "pwd"
   ]
  },
  {
   "cell_type": "code",
   "execution_count": 14,
   "id": "050a3da7",
   "metadata": {},
   "outputs": [
    {
     "data": {
      "text/plain": [
       "<Experiment: artifact_location='/home/juliandry/mlops-zoomcamp/03-training/mlruns/1', creation_time=1719481670513, experiment_id='1', last_update_time=1719481670513, lifecycle_stage='active', name='nyc-taxi-experiment', tags={}>"
      ]
     },
     "execution_count": 14,
     "metadata": {},
     "output_type": "execute_result"
    }
   ],
   "source": [
    "import mlflow\n",
    "\n",
    "mlflow.set_tracking_uri('sqlite:///mlflow.db')\n",
    "mlflow.set_experiment('nyc-taxi-experiment')\n"
   ]
  },
  {
   "cell_type": "code",
   "execution_count": 16,
   "id": "00967d15",
   "metadata": {},
   "outputs": [],
   "source": [
    "def read_dataframe(filename):\n",
    "    df = pd.read_parquet(filename)\n",
    "\n",
    "    df['duration'] = df.tpep_dropoff_datetime-df.tpep_pickup_datetime   \n",
    "    df['duration'] = df.duration.apply(lambda x: x.total_seconds()/60)\n",
    "\n",
    "    df = df[(df.duration>=1)&(df.duration<=60)]\n",
    "\n",
    "    categorical = ['PULocationID', 'DOLocationID']\n",
    "    numerical = ['trip_distance']\n",
    "\n",
    "    df[categorical] = df[categorical].astype('str') \n",
    "    \n",
    "    return df"
   ]
  },
  {
   "cell_type": "code",
   "execution_count": 17,
   "id": "3ce596b8",
   "metadata": {},
   "outputs": [],
   "source": [
    "df_train = read_dataframe('https://d37ci6vzurychx.cloudfront.net/trip-data/yellow_tripdata_2023-01.parquet')\n",
    "df_valid = read_dataframe('https://d37ci6vzurychx.cloudfront.net/trip-data/yellow_tripdata_2023-02.parquet')"
   ]
  },
  {
   "cell_type": "code",
   "execution_count": 18,
   "id": "675987f4",
   "metadata": {},
   "outputs": [],
   "source": [
    "categorical = ['PULocationID', 'DOLocationID']\n",
    "numerical = ['trip_distance']\n",
    "\n",
    "dv = DictVectorizer()\n",
    "\n",
    "train_dict = df_train[categorical].to_dict(orient='records')\n",
    "valid_dict = df_valid[categorical].to_dict(orient='records')\n",
    "\n",
    "X_train = dv.fit_transform(train_dict)\n",
    "X_valid = dv.transform(valid_dict)"
   ]
  },
  {
   "cell_type": "code",
   "execution_count": 19,
   "id": "df9b7f5d",
   "metadata": {},
   "outputs": [],
   "source": [
    "target = ['duration']\n",
    "y_train = df_train[target].values.ravel()\n",
    "y_valid = df_valid[target].values.ravel()"
   ]
  },
  {
   "cell_type": "code",
   "execution_count": 20,
   "id": "4c25644c",
   "metadata": {},
   "outputs": [],
   "source": [
    "lr = LinearRegression()\n",
    "lr.fit(X_train, y_train)\n",
    "\n",
    "y_pred = lr.predict(X_train)\n",
    "y_pred_valid = lr.predict(X_valid)"
   ]
  },
  {
   "cell_type": "code",
   "execution_count": 21,
   "id": "38c4e2d9",
   "metadata": {},
   "outputs": [
    {
     "name": "stdout",
     "output_type": "stream",
     "text": [
      "7.6492624397080675\n",
      "7.81181211389241\n"
     ]
    },
    {
     "name": "stderr",
     "output_type": "stream",
     "text": [
      "/home/juliandry/anaconda3/envs/mlops-env/lib/python3.9/site-packages/sklearn/metrics/_regression.py:492: FutureWarning: 'squared' is deprecated in version 1.4 and will be removed in 1.6. To calculate the root mean squared error, use the function'root_mean_squared_error'.\n",
      "  warnings.warn(\n",
      "/home/juliandry/anaconda3/envs/mlops-env/lib/python3.9/site-packages/sklearn/metrics/_regression.py:492: FutureWarning: 'squared' is deprecated in version 1.4 and will be removed in 1.6. To calculate the root mean squared error, use the function'root_mean_squared_error'.\n",
      "  warnings.warn(\n"
     ]
    }
   ],
   "source": [
    "print(mean_squared_error(y_train, y_pred, squared=False))\n",
    "print(mean_squared_error(y_valid, y_pred_valid, squared=False))"
   ]
  },
  {
   "cell_type": "code",
   "execution_count": 22,
   "id": "900c6a0a",
   "metadata": {},
   "outputs": [],
   "source": [
    "# plt.figure(figsize=(12,8))\n",
    "# sns.kdeplot(y_pred_valid, label='prediction', fill=True)\n",
    "# sns.kdeplot(y_valid, label='actual', fill=True)\n",
    "\n",
    "# plt.legend()\n",
    "# plt.show()"
   ]
  },
  {
   "cell_type": "code",
   "execution_count": 30,
   "id": "b042dfaf",
   "metadata": {},
   "outputs": [],
   "source": [
    "with mlflow.start_run():\n",
    "    mlflow.set_tag(\"developer\", 'jul')\n",
    "\n",
    "    mlflow.log_param(\"train-data-path\", \"https://d37ci6vzurychx.cloudfront.net/trip-data/yellow_tripdata_2023-01.parquet\")\n",
    "    # mlflow.log_param(\"valid-data-path\", \"https://d37ci6vzurychx.cloudfront.net/trip-data/yellow_tripdata_2023-02.parquet\")\n",
    "    \n",
    "    alpha=0.01\n",
    "    mlflow.log_param(\"valid-data-path\", alpha)\n",
    "    ls = Lasso(alpha)\n",
    "    ls.fit(X_train, y_train)\n",
    "\n",
    "    y_pred = ls.predict(X_train)\n",
    "\n",
    "    y_pred_valid = ls.predict(X_valid)\n",
    "\n",
    "    rmse_train = mean_squared_error(y_train, y_pred, squared=False)\n",
    "    rmse = mean_squared_error(y_valid, y_pred_valid, squared=False)\n",
    "\n",
    "    mlflow.log_metric(\"rmse\", rmse)"
   ]
  },
  {
   "cell_type": "code",
   "execution_count": 91,
   "id": "daea03ad",
   "metadata": {},
   "outputs": [],
   "source": [
    "with open('model/lin_reg.bin', 'wb') as f_out:\n",
    "    pickle.dump((dv,lr), f_out)"
   ]
  },
  {
   "cell_type": "code",
   "execution_count": null,
   "id": "ccaa8274",
   "metadata": {},
   "outputs": [],
   "source": []
  }
 ],
 "metadata": {
  "kernelspec": {
   "display_name": "Python 3 (ipykernel)",
   "language": "python",
   "name": "python3"
  },
  "language_info": {
   "codemirror_mode": {
    "name": "ipython",
    "version": 3
   },
   "file_extension": ".py",
   "mimetype": "text/x-python",
   "name": "python",
   "nbconvert_exporter": "python",
   "pygments_lexer": "ipython3",
   "version": "3.9.19"
  }
 },
 "nbformat": 4,
 "nbformat_minor": 5
}
